{
 "cells": [
  {
   "cell_type": "markdown",
   "id": "521b04f2",
   "metadata": {},
   "source": [
    "# Exception Handling -->  #An exception can be defined as an unusal condition in a program resulting in the flow of the proggram.\n",
    "                         #whenever an exception occurs, the program stops the execution, and thus the further code is not executed."
   ]
  },
  {
   "cell_type": "code",
   "execution_count": 1,
   "id": "9cbb562c",
   "metadata": {
    "scrolled": true
   },
   "outputs": [
    {
     "name": "stdout",
     "output_type": "stream",
     "text": [
      "Enter a Number:9\n",
      "Enter b Number:9\n",
      "value of c is  1.0\n"
     ]
    }
   ],
   "source": [
    "a=int(input(\"Enter a Number:\"))\n",
    "b=int(input(\"Enter b Number:\"))\n",
    "c=a/b\n",
    "print(\"value of c is \",c)"
   ]
  },
  {
   "cell_type": "markdown",
   "id": "8deee575",
   "metadata": {},
   "source": [
    "\n",
    "    "
   ]
  },
  {
   "cell_type": "code",
   "execution_count": 3,
   "id": "4e2e0a64",
   "metadata": {},
   "outputs": [
    {
     "name": "stdout",
     "output_type": "stream",
     "text": [
      "1\n",
      "2\n",
      "3\n"
     ]
    }
   ],
   "source": [
    "a=[1,2,3]\n",
    "for i in a:\n",
    "    print(i)"
   ]
  },
  {
   "cell_type": "markdown",
   "id": "9520290b",
   "metadata": {},
   "source": [
    "# python provides a way to handle the exception so that the code can be executed wothout any interruption\n",
    "pyhon has many buit in exceptions that enable our program to run without interruption and give the output"
   ]
  },
  {
   "cell_type": "markdown",
   "id": "8ff0598c",
   "metadata": {},
   "source": [
    "# common Exception"
   ]
  },
  {
   "cell_type": "code",
   "execution_count": null,
   "id": "98f6cfe8",
   "metadata": {},
   "outputs": [],
   "source": [
    "1. ZerodivisionnError -->Occurs when a number is divides by zero."
   ]
  },
  {
   "cell_type": "code",
   "execution_count": null,
   "id": "aadde793",
   "metadata": {},
   "outputs": [],
   "source": [
    "2.NameError- It occurs whena ame is not found.It maybe be loacal and global"
   ]
  },
  {
   "cell_type": "code",
   "execution_count": null,
   "id": "71f7620c",
   "metadata": {},
   "outputs": [],
   "source": [
    "3.INdentation Error--> If incorrect idention is given."
   ]
  },
  {
   "cell_type": "code",
   "execution_count": null,
   "id": "5a693cb6",
   "metadata": {},
   "outputs": [],
   "source": [
    "IoError"
   ]
  },
  {
   "cell_type": "code",
   "execution_count": null,
   "id": "b6d63c5f",
   "metadata": {},
   "outputs": [],
   "source": [
    "EOfError"
   ]
  },
  {
   "cell_type": "code",
   "execution_count": null,
   "id": "d3acd455",
   "metadata": {},
   "outputs": [],
   "source": [
    "#syntax\n",
    "\n",
    "#try:\n",
    "     #block of code\n",
    "except Exception 1:\n",
    "    #block  of code\n",
    "except Exception 2:\n",
    "    #block of code\n",
    "#other code."
   ]
  },
  {
   "cell_type": "code",
   "execution_count": null,
   "id": "45bbed71",
   "metadata": {},
   "outputs": [],
   "source": [
    "a=int(input(\"Enter a Number:\"))\n",
    "b=int(input(\"Enter b Number:\"))\n",
    "try:\n",
    "    c=a/b\n",
    "    print(\"Value of C is: \",c)\n",
    "except:\n",
    "    print(\"error\")\n",
    "    \n",
    "print(\"end of the program\")"
   ]
  },
  {
   "cell_type": "code",
   "execution_count": null,
   "id": "a861bc67",
   "metadata": {},
   "outputs": [],
   "source": [
    "a=int(input(\"Enter a Number:\"))\n",
    "b=int(input(\"Enter b Number:\"))\n",
    "try:\n",
    "    c=a/b\n",
    "    print(\"Value of C is: \",c)\n",
    "except Exception as e:\n",
    "    print(\"error is \",e)\n",
    "    \n",
    "print(\"end of the program\")"
   ]
  },
  {
   "cell_type": "markdown",
   "id": "f6079057",
   "metadata": {},
   "source": [
    "# NAME ERROR"
   ]
  },
  {
   "cell_type": "code",
   "execution_count": null,
   "id": "2f02e2a0",
   "metadata": {},
   "outputs": [],
   "source": [
    "try:\n",
    "    aa=10\n",
    "    print(\"value of aa is :\",aaa)\n",
    "error:\n",
    "    print(\"error\")"
   ]
  },
  {
   "cell_type": "markdown",
   "id": "fe0e4b7a",
   "metadata": {},
   "source": [
    "# INDEX ERROR"
   ]
  },
  {
   "cell_type": "code",
   "execution_count": 3,
   "id": "70cf7d73",
   "metadata": {},
   "outputs": [
    {
     "ename": "SyntaxError",
     "evalue": "invalid syntax (3098243572.py, line 5)",
     "output_type": "error",
     "traceback": [
      "\u001b[1;36m  Input \u001b[1;32mIn [3]\u001b[1;36m\u001b[0m\n\u001b[1;33m    except Exception in e:\u001b[0m\n\u001b[1;37m    ^\u001b[0m\n\u001b[1;31mSyntaxError\u001b[0m\u001b[1;31m:\u001b[0m invalid syntax\n"
     ]
    }
   ],
   "source": [
    "try:\n",
    "    A=[1,2,3]\n",
    "    for i in range(4):\n",
    "        print(a[i])\n",
    "    except Exception in e:\n",
    "            print(\"error is\",e)"
   ]
  },
  {
   "cell_type": "markdown",
   "id": "281133ed",
   "metadata": {},
   "source": [
    "# IO error"
   ]
  },
  {
   "cell_type": "code",
   "execution_count": 4,
   "id": "9cddb20c",
   "metadata": {},
   "outputs": [
    {
     "ename": "SyntaxError",
     "evalue": "EOL while scanning string literal (32591549.py, line 1)",
     "output_type": "error",
     "traceback": [
      "\u001b[1;36m  Input \u001b[1;32mIn [4]\u001b[1;36m\u001b[0m\n\u001b[1;33m    f=open(\"abc.txt,\"r\")\u001b[0m\n\u001b[1;37m                        ^\u001b[0m\n\u001b[1;31mSyntaxError\u001b[0m\u001b[1;31m:\u001b[0m EOL while scanning string literal\n"
     ]
    }
   ],
   "source": [
    "        try:\n",
    "        f=open(\"abc.txt,\"r\")\n",
    "        print(f.read())\n",
    "exception Exception as e:\n",
    "       print(\" Error is:\",e\") "
   ]
  },
  {
   "cell_type": "code",
   "execution_count": null,
   "id": "597b9ccd",
   "metadata": {},
   "outputs": [],
   "source": []
  }
 ],
 "metadata": {
  "kernelspec": {
   "display_name": "Python 3 (ipykernel)",
   "language": "python",
   "name": "python3"
  },
  "language_info": {
   "codemirror_mode": {
    "name": "ipython",
    "version": 3
   },
   "file_extension": ".py",
   "mimetype": "text/x-python",
   "name": "python",
   "nbconvert_exporter": "python",
   "pygments_lexer": "ipython3",
   "version": "3.9.12"
  }
 },
 "nbformat": 4,
 "nbformat_minor": 5
}
