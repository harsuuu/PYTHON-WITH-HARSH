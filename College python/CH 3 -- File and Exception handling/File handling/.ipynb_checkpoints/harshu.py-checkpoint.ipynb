{
 "cells": [
  {
   "cell_type": "code",
   "execution_count": 2,
   "id": "59d1d1f6",
   "metadata": {},
   "outputs": [
    {
     "name": "stdout",
     "output_type": "stream",
     "text": [
      "hi i am harsh joshi\n"
     ]
    }
   ],
   "source": [
    "a=open('harsh.txt','r')\n",
    "print(a.read())"
   ]
  },
  {
   "cell_type": "markdown",
   "id": "f7591135",
   "metadata": {},
   "source": [
    "# Read only parts of the file\n",
    "\n",
    "# By default the read() method returns the whole text , but you can also specify the no. of character to return."
   ]
  },
  {
   "cell_type": "code",
   "execution_count": 4,
   "id": "5316c252",
   "metadata": {},
   "outputs": [
    {
     "name": "stdout",
     "output_type": "stream",
     "text": [
      "hi i am ha\n"
     ]
    }
   ],
   "source": [
    "a=open('harsh.txt','r')\n",
    "print(a.read(10))   # now it will first 10 character."
   ]
  },
  {
   "cell_type": "markdown",
   "id": "8dd33d1d",
   "metadata": {},
   "source": [
    "# Read lines\n",
    "# readluine() methods return text of one libe"
   ]
  },
  {
   "cell_type": "code",
   "execution_count": 5,
   "id": "1a86111b",
   "metadata": {},
   "outputs": [
    {
     "name": "stdout",
     "output_type": "stream",
     "text": [
      "hi i am harsh joshi\n",
      "\n",
      "I am from distt . Rampur \n"
     ]
    }
   ],
   "source": [
    "a=open('harsh.txt','r')\n",
    "print(a.readline())\n",
    "print(a.readline())"
   ]
  },
  {
   "cell_type": "markdown",
   "id": "403e9146",
   "metadata": {},
   "source": [
    "# Looping through the lines of the file\n"
   ]
  },
  {
   "cell_type": "code",
   "execution_count": 8,
   "id": "d8f93b22",
   "metadata": {},
   "outputs": [
    {
     "name": "stdout",
     "output_type": "stream",
     "text": [
      "hi i am harsh joshi\n",
      "\n",
      "I am from distt . Rampur \n"
     ]
    }
   ],
   "source": [
    "a=open('harsh.txt','r')\n",
    "for x in a:\n",
    "    print(x)"
   ]
  },
  {
   "cell_type": "markdown",
   "id": "dedb190d",
   "metadata": {},
   "source": [
    "# FILE WRITE \n",
    "\n",
    "# To write to an existing file , we must add a parameter to the open() function:\n",
    "# \"a\" - Append -will append to the end of the file.\n",
    "# \"w\" - Write - will overwrite the existing content."
   ]
  },
  {
   "cell_type": "code",
   "execution_count": 12,
   "id": "d04a300c",
   "metadata": {},
   "outputs": [],
   "source": [
    "a=open('harsh.txt','a')\n",
    "a.write(' Dehradun , INDIA  ')\n",
    "a.close()"
   ]
  },
  {
   "cell_type": "markdown",
   "id": "dc99f750",
   "metadata": {},
   "source": [
    "# File Write : W Mode "
   ]
  },
  {
   "cell_type": "code",
   "execution_count": 13,
   "id": "82ced4a5",
   "metadata": {},
   "outputs": [],
   "source": [
    "a=open('harsh.txt','w')\n",
    "a.write('Python Programming')\n",
    "a.close()      #ye overwrite kr dega "
   ]
  },
  {
   "cell_type": "markdown",
   "id": "8caf835c",
   "metadata": {},
   "source": [
    "# FILE CREATE\n",
    "# \"X\"- Create - will create a file, returns an error if the files exist."
   ]
  },
  {
   "cell_type": "code",
   "execution_count": 14,
   "id": "0947b7b9",
   "metadata": {},
   "outputs": [],
   "source": [
    "a=open('harshu.txt','x')\n",
    "a.close()    #x will create the file."
   ]
  },
  {
   "cell_type": "code",
   "execution_count": 15,
   "id": "8f4de622",
   "metadata": {},
   "outputs": [],
   "source": [
    "#Another method to create the file\n",
    "a=open('harshuu.txt','a')\n",
    "a.write('hi i am harshu')\n",
    "a.close() "
   ]
  },
  {
   "cell_type": "code",
   "execution_count": 16,
   "id": "3de20c4f",
   "metadata": {},
   "outputs": [],
   "source": [
    "#One more another method create the file\n",
    "\n",
    "a=open('harshuuu.txt','w')\n",
    "a.write('sab moh maya hai bro isliye chill mar')\n",
    "a.close() "
   ]
  },
  {
   "cell_type": "markdown",
   "id": "d097cd4c",
   "metadata": {},
   "source": [
    "# Delete a file --> For deleting import the OS module, and run its os.remove() function. "
   ]
  },
  {
   "cell_type": "code",
   "execution_count": 17,
   "id": "e393e3cb",
   "metadata": {},
   "outputs": [],
   "source": [
    "import os \n",
    "os.remove('harshuuu.txt')"
   ]
  },
  {
   "cell_type": "markdown",
   "id": "9dabae9e",
   "metadata": {},
   "source": [
    "# Delete a Folder"
   ]
  },
  {
   "cell_type": "code",
   "execution_count": 18,
   "id": "30ddde12",
   "metadata": {},
   "outputs": [],
   "source": [
    "import os \n",
    "os.rmdir('aaa')"
   ]
  },
  {
   "cell_type": "code",
   "execution_count": null,
   "id": "94bff2b3",
   "metadata": {},
   "outputs": [],
   "source": []
  }
 ],
 "metadata": {
  "kernelspec": {
   "display_name": "Python 3 (ipykernel)",
   "language": "python",
   "name": "python3"
  },
  "language_info": {
   "codemirror_mode": {
    "name": "ipython",
    "version": 3
   },
   "file_extension": ".py",
   "mimetype": "text/x-python",
   "name": "python",
   "nbconvert_exporter": "python",
   "pygments_lexer": "ipython3",
   "version": "3.9.12"
  }
 },
 "nbformat": 4,
 "nbformat_minor": 5
}
