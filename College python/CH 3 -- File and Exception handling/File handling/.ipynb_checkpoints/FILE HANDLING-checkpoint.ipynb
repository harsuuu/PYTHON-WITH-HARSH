{
 "cells": [
  {
   "cell_type": "code",
   "execution_count": 1,
   "id": "992331b1",
   "metadata": {},
   "outputs": [],
   "source": [
    "#FILE HANDLING\n",
    "# 1. The key function for working with files in python is the open() function.\n",
    "# 2. the open () function tskes two parameters;filename and made."
   ]
  },
  {
   "cell_type": "code",
   "execution_count": 2,
   "id": "543d5f81",
   "metadata": {},
   "outputs": [],
   "source": [
    "#METHOD\n",
    "# 1. \"r\" - Read --Default value . Opens a file for reading, error if the file does not exist.\n",
    "# 2. \"a\" - Append --open a file for appending, creates the file if it does not exist.\n",
    "# 3. \"w\" - Write --open a file for writing, creates the files if it does not exists.\n",
    "# 4. \"x\" - Create --Creates the specified file, returns an error if the file exists."
   ]
  },
  {
   "cell_type": "code",
   "execution_count": null,
   "id": "da437e0a",
   "metadata": {},
   "outputs": [],
   "source": [
    "#in addition , we can specify if the file should be handles as binary or text mode \n",
    "# \"t\" -Text --\n",
    "# \"b\" -Binary --  "
   ]
  }
 ],
 "metadata": {
  "kernelspec": {
   "display_name": "Python 3 (ipykernel)",
   "language": "python",
   "name": "python3"
  },
  "language_info": {
   "codemirror_mode": {
    "name": "ipython",
    "version": 3
   },
   "file_extension": ".py",
   "mimetype": "text/x-python",
   "name": "python",
   "nbconvert_exporter": "python",
   "pygments_lexer": "ipython3",
   "version": "3.9.12"
  }
 },
 "nbformat": 4,
 "nbformat_minor": 5
}
