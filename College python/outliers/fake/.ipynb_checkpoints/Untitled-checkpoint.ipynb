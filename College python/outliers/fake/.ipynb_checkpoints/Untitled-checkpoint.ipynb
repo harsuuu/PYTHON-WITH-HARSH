{
 "cells": [
  {
   "cell_type": "code",
   "execution_count": 1,
   "id": "e6f4fe5d",
   "metadata": {},
   "outputs": [],
   "source": [
    "a=1"
   ]
  },
  {
   "cell_type": "code",
   "execution_count": 2,
   "id": "dcafb767",
   "metadata": {},
   "outputs": [
    {
     "name": "stdout",
     "output_type": "stream",
     "text": [
      "<class 'int'>\n"
     ]
    }
   ],
   "source": [
    "print(type(a))"
   ]
  },
  {
   "cell_type": "code",
   "execution_count": 3,
   "id": "60d05268",
   "metadata": {},
   "outputs": [],
   "source": [
    "b=1.2"
   ]
  },
  {
   "cell_type": "code",
   "execution_count": 4,
   "id": "168cce4e",
   "metadata": {},
   "outputs": [
    {
     "name": "stdout",
     "output_type": "stream",
     "text": [
      "<class 'float'>\n"
     ]
    }
   ],
   "source": [
    "print(type(b))"
   ]
  },
  {
   "cell_type": "code",
   "execution_count": 1,
   "id": "d33329c2",
   "metadata": {},
   "outputs": [],
   "source": [
    "a=(4==4)\n",
    "b= 5>6\n",
    "c= 5!=10"
   ]
  },
  {
   "cell_type": "code",
   "execution_count": 2,
   "id": "47476eec",
   "metadata": {},
   "outputs": [
    {
     "name": "stdout",
     "output_type": "stream",
     "text": [
      "True\n",
      "False\n",
      "True\n"
     ]
    }
   ],
   "source": [
    "print(a)\n",
    "print(b)\n",
    "print(c)"
   ]
  },
  {
   "cell_type": "code",
   "execution_count": 4,
   "id": "b4e8b5dc",
   "metadata": {},
   "outputs": [],
   "source": [
    "a=True\n",
    "b=False"
   ]
  },
  {
   "cell_type": "code",
   "execution_count": 5,
   "id": "99c74219",
   "metadata": {},
   "outputs": [
    {
     "name": "stdout",
     "output_type": "stream",
     "text": [
      "False\n",
      "True\n",
      "False\n",
      "True\n"
     ]
    }
   ],
   "source": [
    "print(a and b)\n",
    "print(a or b)\n",
    "print(not a)\n",
    "print(not b)"
   ]
  },
  {
   "cell_type": "code",
   "execution_count": 6,
   "id": "4ee25618",
   "metadata": {},
   "outputs": [
    {
     "name": "stdout",
     "output_type": "stream",
     "text": [
      "Enter the number10\n",
      "10\n",
      "<class 'str'>\n"
     ]
    }
   ],
   "source": [
    "a=input(\"Enter the number\")\n",
    "print(a)\n",
    "print(type(a))"
   ]
  },
  {
   "cell_type": "code",
   "execution_count": 8,
   "id": "4b57957f",
   "metadata": {},
   "outputs": [
    {
     "name": "stdout",
     "output_type": "stream",
     "text": [
      "Enter 1st digit110\n",
      "enter 2nd dight20\n",
      "130\n"
     ]
    }
   ],
   "source": [
    "a=input(\"Enter 1st digit\")\n",
    "b=input(\"enter 2nd dight\")\n",
    "a=int(a)\n",
    "b=int(b)\n",
    "c=a+b\n",
    "print(c)"
   ]
  },
  {
   "cell_type": "code",
   "execution_count": 9,
   "id": "b304e190",
   "metadata": {},
   "outputs": [
    {
     "name": "stdout",
     "output_type": "stream",
     "text": [
      "1\n"
     ]
    }
   ],
   "source": [
    "a=15\n",
    "b=2\n",
    "c=a%b\n",
    "print(c)"
   ]
  },
  {
   "cell_type": "code",
   "execution_count": 11,
   "id": "c780d4d0",
   "metadata": {},
   "outputs": [
    {
     "name": "stdout",
     "output_type": "stream",
     "text": [
      "Enter the age10\n",
      "no\n"
     ]
    }
   ],
   "source": [
    "a=input(\"Enter the age\")\n",
    "a=int(a)\n",
    "if(a>=18):\n",
    "    print(\"yes\")\n",
    "else:\n",
    "    print(\"no\")"
   ]
  },
  {
   "cell_type": "code",
   "execution_count": 13,
   "id": "b0d0f56c",
   "metadata": {},
   "outputs": [
    {
     "name": "stdout",
     "output_type": "stream",
     "text": [
      "Enter the age20\n",
      "bed\n"
     ]
    }
   ],
   "source": [
    "a=input(\"Enter the age\")\n",
    "a=int(a)\n",
    "if(a>30 and a<60):\n",
    "    print(\"good\")\n",
    "else:\n",
    "    print(\"bed\")"
   ]
  },
  {
   "cell_type": "code",
   "execution_count": 2,
   "id": "c78a02fe",
   "metadata": {},
   "outputs": [
    {
     "name": "stdout",
     "output_type": "stream",
     "text": [
      "yes\n"
     ]
    },
    {
     "name": "stderr",
     "output_type": "stream",
     "text": [
      "<>:2: SyntaxWarning: \"is\" with a literal. Did you mean \"==\"?\n",
      "<>:2: SyntaxWarning: \"is\" with a literal. Did you mean \"==\"?\n",
      "C:\\Users\\harsh\\AppData\\Local\\Temp\\ipykernel_16408\\1929912343.py:2: SyntaxWarning: \"is\" with a literal. Did you mean \"==\"?\n",
      "  if(a is 10):\n"
     ]
    }
   ],
   "source": [
    "a=10\n",
    "if(a is 10):\n",
    "    print(\"yes\")\n",
    "else:\n",
    "    print(\"no\")"
   ]
  },
  {
   "cell_type": "code",
   "execution_count": 3,
   "id": "e889035d",
   "metadata": {},
   "outputs": [
    {
     "name": "stdout",
     "output_type": "stream",
     "text": [
      "True\n"
     ]
    }
   ],
   "source": [
    "a=[10,20,30,40,50]\n",
    "print(20 in a)"
   ]
  },
  {
   "cell_type": "code",
   "execution_count": 1,
   "id": "3220bc03",
   "metadata": {},
   "outputs": [],
   "source": [
    "a='''hi my name is harsh joshi\n",
    "i am from distt. Rampur \n",
    "i am trying to become software engineer \n",
    "and data scientist'''"
   ]
  },
  {
   "cell_type": "code",
   "execution_count": 2,
   "id": "38536445",
   "metadata": {},
   "outputs": [
    {
     "name": "stdout",
     "output_type": "stream",
     "text": [
      "hi my name is harsh joshi\n",
      "i am from distt. Rampur \n",
      "i am trying to become software engineer \n",
      "and data scientist\n"
     ]
    }
   ],
   "source": [
    "print(a)"
   ]
  },
  {
   "cell_type": "code",
   "execution_count": 9,
   "id": "b08158a5",
   "metadata": {},
   "outputs": [],
   "source": [
    "a=\"Good Morning\"\n",
    "b=\" Harsh\"\n",
    "c=a + b"
   ]
  },
  {
   "cell_type": "code",
   "execution_count": 10,
   "id": "62635aa7",
   "metadata": {},
   "outputs": [
    {
     "name": "stdout",
     "output_type": "stream",
     "text": [
      "Good Morning Harsh\n"
     ]
    }
   ],
   "source": [
    "print(c)"
   ]
  },
  {
   "cell_type": "code",
   "execution_count": 11,
   "id": "9f8182bd",
   "metadata": {},
   "outputs": [],
   "source": [
    " a=\"abc\""
   ]
  },
  {
   "cell_type": "code",
   "execution_count": 12,
   "id": "23b02b50",
   "metadata": {},
   "outputs": [
    {
     "name": "stdout",
     "output_type": "stream",
     "text": [
      "a\n",
      "b\n",
      "c\n"
     ]
    }
   ],
   "source": [
    "print(a[0])\n",
    "print(a[1])\n",
    "print(a[2])"
   ]
  },
  {
   "cell_type": "code",
   "execution_count": 13,
   "id": "37b2dff0",
   "metadata": {},
   "outputs": [],
   "source": [
    "a=\"abcde\""
   ]
  },
  {
   "cell_type": "code",
   "execution_count": 15,
   "id": "967c4034",
   "metadata": {},
   "outputs": [
    {
     "name": "stdout",
     "output_type": "stream",
     "text": [
      "abcde\n",
      "abc\n"
     ]
    }
   ],
   "source": [
    "print(a[:])\n",
    "print(a[0:3])"
   ]
  },
  {
   "cell_type": "code",
   "execution_count": 16,
   "id": "768c2eaf",
   "metadata": {},
   "outputs": [],
   "source": [
    "z=\"i am good\""
   ]
  },
  {
   "cell_type": "code",
   "execution_count": 18,
   "id": "25337db3",
   "metadata": {},
   "outputs": [
    {
     "name": "stdout",
     "output_type": "stream",
     "text": [
      "True\n",
      "False\n"
     ]
    }
   ],
   "source": [
    "print(z.endswith(\"good\"))\n",
    "print(z.endswith(\"am\"))"
   ]
  },
  {
   "cell_type": "code",
   "execution_count": 1,
   "id": "ced0c071",
   "metadata": {},
   "outputs": [
    {
     "name": "stdout",
     "output_type": "stream",
     "text": [
      "1\n",
      "2\n",
      "3\n",
      "4\n",
      "5\n",
      "6\n",
      "7\n",
      "8\n",
      "9\n",
      "10\n",
      "11\n",
      "12\n",
      "13\n",
      "14\n",
      "15\n",
      "16\n",
      "17\n",
      "18\n",
      "19\n",
      "20\n",
      "21\n",
      "22\n",
      "23\n",
      "24\n",
      "25\n",
      "26\n",
      "27\n",
      "28\n",
      "29\n",
      "30\n",
      "31\n",
      "32\n",
      "33\n",
      "34\n",
      "35\n",
      "36\n",
      "37\n",
      "38\n",
      "39\n",
      "40\n",
      "41\n",
      "42\n",
      "43\n",
      "44\n",
      "45\n",
      "46\n",
      "47\n",
      "48\n",
      "49\n",
      "50\n"
     ]
    }
   ],
   "source": [
    "i=1\n",
    "while i<=10:\n",
    "    print(i)\n",
    "    i=i+1"
   ]
  },
  {
   "cell_type": "code",
   "execution_count": null,
   "id": "6bb61934",
   "metadata": {},
   "outputs": [],
   "source": []
  }
 ],
 "metadata": {
  "kernelspec": {
   "display_name": "Python 3 (ipykernel)",
   "language": "python",
   "name": "python3"
  },
  "language_info": {
   "codemirror_mode": {
    "name": "ipython",
    "version": 3
   },
   "file_extension": ".py",
   "mimetype": "text/x-python",
   "name": "python",
   "nbconvert_exporter": "python",
   "pygments_lexer": "ipython3",
   "version": "3.9.12"
  }
 },
 "nbformat": 4,
 "nbformat_minor": 5
}
