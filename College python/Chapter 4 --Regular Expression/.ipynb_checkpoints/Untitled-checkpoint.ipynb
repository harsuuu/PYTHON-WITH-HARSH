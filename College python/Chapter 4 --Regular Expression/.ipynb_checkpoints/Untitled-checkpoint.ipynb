{
 "cells": [
  {
   "cell_type": "code",
   "execution_count": 2,
   "id": "287297ae",
   "metadata": {},
   "outputs": [],
   "source": [
    "import re"
   ]
  },
  {
   "cell_type": "code",
   "execution_count": 1,
   "id": "c488dbd0",
   "metadata": {},
   "outputs": [
    {
     "name": "stdout",
     "output_type": "stream",
     "text": [
      "\n"
     ]
    }
   ],
   "source": [
    "import re\n",
    "txt= 'aaa bbb ccc'\n",
    "ans=re.split('',txt)[0]\n",
    "print(ans)"
   ]
  },
  {
   "cell_type": "code",
   "execution_count": 2,
   "id": "20e021bf",
   "metadata": {},
   "outputs": [
    {
     "name": "stdout",
     "output_type": "stream",
     "text": [
      "['aaA ', ' bBB ', ' ccc ']\n"
     ]
    }
   ],
   "source": [
    "txt='aaA 111 bBB 222 ccc 3333'\n",
    "ans=re.findall('[a-z A-Z]+', txt)\n",
    "print(ans)"
   ]
  },
  {
   "cell_type": "code",
   "execution_count": null,
   "id": "6d548286",
   "metadata": {},
   "outputs": [],
   "source": [
    "import re\n",
    "txt=\"Today's date is 18-11-2022\"\n",
    "ans=re.findall('\\d{2}-\\d{2}-\\d{4}',txt)\n",
    "print(ans)\n"
   ]
  },
  {
   "cell_type": "code",
   "execution_count": 3,
   "id": "d8b276bb",
   "metadata": {},
   "outputs": [
    {
     "name": "stdout",
     "output_type": "stream",
     "text": [
      "harshjoshi\n"
     ]
    }
   ],
   "source": [
    "import re\n",
    "txt=\"harshjoshi@gmail.com\"\n",
    "ans=re.split('@',txt)[0]\n",
    "print(ans)"
   ]
  },
  {
   "cell_type": "code",
   "execution_count": 2,
   "id": "06f52596",
   "metadata": {},
   "outputs": [
    {
     "name": "stdout",
     "output_type": "stream",
     "text": [
      "era\n",
      "university\n"
     ]
    }
   ],
   "source": [
    "import re \n",
    "text=\"graphic era university\"\n",
    "vowel='aeiou AEIOU'\n",
    "x=re.split('\\s',text)\n",
    "for i in x:\n",
    "    if i[0] in vowel:\n",
    "        print(i)"
   ]
  },
  {
   "cell_type": "code",
   "execution_count": 3,
   "id": "fba702b6",
   "metadata": {},
   "outputs": [
    {
     "name": "stdout",
     "output_type": "stream",
     "text": [
      "['Hi', ' Hope you all are fine', ' next week', ' You have python test']\n"
     ]
    }
   ],
   "source": [
    "txt=\"Hi, Hope you all are fine; next week\\n You have python test\"\n",
    "ans=re.split(',|\\n|;',txt)\n",
    "print(ans)"
   ]
  },
  {
   "cell_type": "code",
   "execution_count": 2,
   "id": "b551f5ec",
   "metadata": {},
   "outputs": [
    {
     "name": "stdout",
     "output_type": "stream",
     "text": [
      "['.', '.']\n"
     ]
    }
   ],
   "source": [
    "#Example of backslash\n",
    "import re\n",
    "txt='my-mail-is-abc@geu.ac.in'\n",
    "pattern='\\.'\n",
    "ans=re.findall(pattern,txt)\n",
    "print(ans)"
   ]
  },
  {
   "cell_type": "code",
   "execution_count": 5,
   "id": "20f71ec1",
   "metadata": {},
   "outputs": [
    {
     "name": "stdout",
     "output_type": "stream",
     "text": [
      "['ac', 'abc']\n"
     ]
    }
   ],
   "source": [
    "#Example of Question Marks\n",
    "\n",
    "txt=\"ac abc abbc abbc abbbbc abbbbbc\"\n",
    "pattern='ab?c'\n",
    "match=re.findall(pattern,txt)\n",
    "print(match)"
   ]
  },
  {
   "cell_type": "markdown",
   "id": "3bd3fa39",
   "metadata": {},
   "source": [
    "# PLUS SYMBOL "
   ]
  },
  {
   "cell_type": "code",
   "execution_count": 6,
   "id": "08a13797",
   "metadata": {},
   "outputs": [
    {
     "name": "stdout",
     "output_type": "stream",
     "text": [
      "['abc', 'abbc', 'abbc', 'abbbbc', 'abbbbbc']\n"
     ]
    }
   ],
   "source": [
    "txt=\"ac abc abbc abbc abbbbc abbbbbc\"\n",
    "pattern='ab+c'\n",
    "match=re.findall(pattern,txt)\n",
    "print(match)"
   ]
  },
  {
   "cell_type": "markdown",
   "id": "84df80ad",
   "metadata": {},
   "source": [
    "#  *(star) Symbol"
   ]
  },
  {
   "cell_type": "code",
   "execution_count": 4,
   "id": "d2d2346f",
   "metadata": {},
   "outputs": [
    {
     "name": "stdout",
     "output_type": "stream",
     "text": [
      "['ac', 'abc', 'abbc', 'abbbbc', 'abbbbbc']\n"
     ]
    }
   ],
   "source": [
    "txt=\"ac abc abbc adc abbbbc abbbbbc\"\n",
    "pattern='ab*c'\n",
    "match=re.findall(pattern,txt)\n",
    "print(match)"
   ]
  },
  {
   "cell_type": "markdown",
   "id": "1b22e2c1",
   "metadata": {},
   "source": [
    "# {m,n} Braces"
   ]
  },
  {
   "cell_type": "code",
   "execution_count": 8,
   "id": "a602e6fb",
   "metadata": {},
   "outputs": [
    {
     "name": "stdout",
     "output_type": "stream",
     "text": [
      "['abbc', 'abbc', 'abbbbc']\n"
     ]
    }
   ],
   "source": [
    "txt=\"ac abc abbc abbc abbbbc abbbbbc\"\n",
    "pattern='ab{2,4}c'\n",
    "match=re.findall(pattern,txt)\n",
    "print(match)"
   ]
  },
  {
   "cell_type": "markdown",
   "id": "57213371",
   "metadata": {},
   "source": [
    "# EXAMPLE"
   ]
  },
  {
   "cell_type": "code",
   "execution_count": 16,
   "id": "6c3e7862",
   "metadata": {},
   "outputs": [
    {
     "name": "stdout",
     "output_type": "stream",
     "text": [
      "['9999111166']\n",
      "['(999)-333-7777']\n"
     ]
    }
   ],
   "source": [
    "text =\"Elon musk's phone number is 9999111166, call him if have any question on do Tesla's CFO number (999)-333-7777 \"\n",
    "ans=re.findall('\\d{10}',text)\n",
    "print(ans)\n",
    "pattern='\\(\\d{3}\\)-\\d{3}-\\d{4}'\n",
    "ans1=re.findall(pattern,text)\n",
    "print(ans1)"
   ]
  },
  {
   "cell_type": "markdown",
   "id": "3415994f",
   "metadata": {},
   "source": [
    "#  Example 2."
   ]
  },
  {
   "cell_type": "code",
   "execution_count": 19,
   "id": "d225759c",
   "metadata": {},
   "outputs": [
    {
     "name": "stdout",
     "output_type": "stream",
     "text": [
      "['$4.85 billion', '$3 billion']\n"
     ]
    }
   ],
   "source": [
    "text='''The gross cost of operating lease vehicles in FY2021 Q1was $4.85 billion.\n",
    "In previous quarter i.e. FY2020 Q4 it was $3 billion FY2022 Q5.'''\n",
    "pattern=\"\\$[0-9\\.]+ [a-z]{7}|\\$[0-9]+ [a-z]{7}\"\n",
    "match=re.findall(pattern,text)\n",
    "print(match)"
   ]
  },
  {
   "cell_type": "markdown",
   "id": "fbd4553e",
   "metadata": {},
   "source": [
    "# search"
   ]
  },
  {
   "cell_type": "code",
   "execution_count": 3,
   "id": "e3886545",
   "metadata": {},
   "outputs": [
    {
     "name": "stdout",
     "output_type": "stream",
     "text": [
      "match\n"
     ]
    }
   ],
   "source": [
    "import re\n",
    "text=\"do well as i do\"\n",
    "x=re.search(\"as\",text)\n",
    "if(x):\n",
    "    print(\"match\")\n",
    "else:\n",
    "    print(\"No match\")"
   ]
  },
  {
   "cell_type": "markdown",
   "id": "bfa36318",
   "metadata": {},
   "source": [
    "# findall "
   ]
  },
  {
   "cell_type": "code",
   "execution_count": 5,
   "id": "b205f83d",
   "metadata": {},
   "outputs": [
    {
     "name": "stdout",
     "output_type": "stream",
     "text": [
      "['harsh', 'harsh', 'harsh']\n"
     ]
    }
   ],
   "source": [
    "import re\n",
    "text=\"hi ,my name is harsh, harsh is good ,harsh lives in saifni\"\n",
    "x=re.findall(\"harsh\",text)\n",
    "print(x)"
   ]
  },
  {
   "cell_type": "markdown",
   "id": "5fcef409",
   "metadata": {},
   "source": [
    "#  Split"
   ]
  },
  {
   "cell_type": "code",
   "execution_count": 6,
   "id": "f3824c7e",
   "metadata": {},
   "outputs": [
    {
     "name": "stdout",
     "output_type": "stream",
     "text": [
      "['hii', 'i', 'am', 'learning', 'python']\n"
     ]
    }
   ],
   "source": [
    "import re \n",
    "test=\"hii i am learning python\"\n",
    "y=re.split(\"\\s\",test)\n",
    "print(y)"
   ]
  },
  {
   "cell_type": "markdown",
   "id": "e8cfb4ec",
   "metadata": {},
   "source": [
    "# sub\n"
   ]
  },
  {
   "cell_type": "code",
   "execution_count": 7,
   "id": "315d69bf",
   "metadata": {},
   "outputs": [
    {
     "name": "stdout",
     "output_type": "stream",
     "text": [
      "harsh is bed\n"
     ]
    }
   ],
   "source": [
    " import re\n",
    "test=\"harsh is good\"\n",
    "x=re.sub(\"good\",\"bed\",test)\n",
    "print(x)"
   ]
  },
  {
   "cell_type": "code",
   "execution_count": null,
   "id": "b00cbd4e",
   "metadata": {},
   "outputs": [],
   "source": []
  }
 ],
 "metadata": {
  "kernelspec": {
   "display_name": "Python 3 (ipykernel)",
   "language": "python",
   "name": "python3"
  },
  "language_info": {
   "codemirror_mode": {
    "name": "ipython",
    "version": 3
   },
   "file_extension": ".py",
   "mimetype": "text/x-python",
   "name": "python",
   "nbconvert_exporter": "python",
   "pygments_lexer": "ipython3",
   "version": "3.9.12"
  }
 },
 "nbformat": 4,
 "nbformat_minor": 5
}
