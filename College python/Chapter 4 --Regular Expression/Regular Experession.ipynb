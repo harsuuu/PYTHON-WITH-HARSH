{
 "cells": [
  {
   "cell_type": "markdown",
   "id": "0e3183c4",
   "metadata": {},
   "source": [
    "## A Regular Expression or RegEx is a sequence of characters that forms a search pattern\n",
    "\n",
    "## RegEx can be used to check if a string contain the specified search pattern or not\n"
   ]
  },
  {
   "cell_type": "markdown",
   "id": "2d5f38b7",
   "metadata": {},
   "source": [
    "## Python has a built in package re which can be used to work with regular expressions "
   ]
  },
  {
   "cell_type": "code",
   "execution_count": 10,
   "id": "d6793436",
   "metadata": {},
   "outputs": [],
   "source": [
    "import re"
   ]
  },
  {
   "cell_type": "markdown",
   "id": "5e846e3c",
   "metadata": {},
   "source": [
    "## Regular Expression methods:\n",
    "\n",
    "## Findall:\n",
    "\n",
    "## -> Returns a list of containing all the matches\n",
    "\n",
    "\n",
    "\n",
    "## Search:\n",
    "\n",
    "## ->Returns a Match object if there is a match anywhere in the string\n",
    "\n",
    "\n",
    "\n",
    "## Split:\n",
    "\n",
    "## ->Returns a list where the string has been split at each match\n",
    "\n",
    "\n",
    "\n",
    "## Sub:\n",
    "\n",
    "## ->Replaces one or mayne matches with a string or a character"
   ]
  },
  {
   "cell_type": "markdown",
   "id": "fe479eed",
   "metadata": {},
   "source": [
    "## Import package re to use the above methods "
   ]
  },
  {
   "cell_type": "markdown",
   "id": "a280acc6",
   "metadata": {},
   "source": [
    "### Findall Example"
   ]
  },
  {
   "cell_type": "code",
   "execution_count": 13,
   "id": "c44fce9b",
   "metadata": {},
   "outputs": [
    {
     "name": "stdout",
     "output_type": "stream",
     "text": [
      "['as', 'as']\n",
      "[]\n"
     ]
    }
   ],
   "source": [
    "import re\n",
    "txt='do as I say not as I do'\n",
    "ans=re.findall('as',txt)\n",
    "print(ans)\n",
    "x=re.findall('wert',txt)\n",
    "print(x)"
   ]
  },
  {
   "cell_type": "markdown",
   "id": "cdcd40a8",
   "metadata": {},
   "source": [
    "### Search Example"
   ]
  },
  {
   "cell_type": "code",
   "execution_count": 11,
   "id": "562d11e9",
   "metadata": {},
   "outputs": [
    {
     "name": "stdout",
     "output_type": "stream",
     "text": [
      "Yes! We have a match.\n"
     ]
    }
   ],
   "source": [
    "ans=re.search('not',txt)\n",
    "if ans:\n",
    "    print(\"Yes! We have a match.\")\n",
    "else:\n",
    "    print(\"No Match\")"
   ]
  },
  {
   "cell_type": "code",
   "execution_count": 14,
   "id": "025184e8",
   "metadata": {},
   "outputs": [
    {
     "name": "stdout",
     "output_type": "stream",
     "text": [
      "12\n"
     ]
    }
   ],
   "source": [
    "ans=re.search('not',txt)\n",
    "print(ans.start())"
   ]
  },
  {
   "cell_type": "markdown",
   "id": "a7546f6b",
   "metadata": {},
   "source": [
    "### Sub Example"
   ]
  },
  {
   "cell_type": "code",
   "execution_count": 23,
   "id": "54f96317",
   "metadata": {},
   "outputs": [
    {
     "name": "stdout",
     "output_type": "stream",
     "text": [
      "do_as_I_say_not_as_I_do\n",
      "do_as_I_say_not as I do\n"
     ]
    }
   ],
   "source": [
    "ans=re.sub(' ','_',txt)\n",
    "print(ans)\n",
    "\n",
    "x=re.sub(' ','_',txt,4)\n",
    "print(x)"
   ]
  },
  {
   "cell_type": "markdown",
   "id": "760d17c2",
   "metadata": {},
   "source": [
    "### Split Example"
   ]
  },
  {
   "cell_type": "code",
   "execution_count": 27,
   "id": "4bf5144b",
   "metadata": {},
   "outputs": [
    {
     "name": "stdout",
     "output_type": "stream",
     "text": [
      "['do', 'as', 'I', 'say', 'not', 'as', 'I', 'do']\n"
     ]
    }
   ],
   "source": [
    "txt='do as I say not as I do'\n",
    "ans=re.split('\\s',txt)\n",
    "print(ans)"
   ]
  },
  {
   "cell_type": "markdown",
   "id": "35e13772",
   "metadata": {},
   "source": [
    "## Programs of Regular Expression"
   ]
  },
  {
   "cell_type": "markdown",
   "id": "a7fa2739",
   "metadata": {},
   "source": [
    "### Write a Python Program to return the first word of a given String. "
   ]
  },
  {
   "cell_type": "code",
   "execution_count": 34,
   "id": "d2aa2f17",
   "metadata": {},
   "outputs": [
    {
     "name": "stdout",
     "output_type": "stream",
     "text": [
      "aaa\n"
     ]
    }
   ],
   "source": [
    "import re\n",
    "txt='aaa bbb ccc'\n",
    "ans=txt.split(' ')[0]\n",
    "print(ans)"
   ]
  },
  {
   "cell_type": "markdown",
   "id": "b6e71a08",
   "metadata": {},
   "source": [
    "### Write a Python Program to extract all the words of a given String"
   ]
  },
  {
   "cell_type": "code",
   "execution_count": 36,
   "id": "2f23392c",
   "metadata": {},
   "outputs": [
    {
     "name": "stdout",
     "output_type": "stream",
     "text": [
      "['aaA ', ' bBb ', ' Ccc ']\n"
     ]
    }
   ],
   "source": [
    "import re\n",
    "txt='aaA 111 bBb 222 Ccc 333'\n",
    "ans=re.findall('[a-z A-Z]+',txt)\n",
    "print(ans)"
   ]
  },
  {
   "cell_type": "markdown",
   "id": "e0fee94f",
   "metadata": {},
   "source": [
    "### Write a Python Program to extract Date from a given String"
   ]
  },
  {
   "cell_type": "code",
   "execution_count": 49,
   "id": "e28826ad",
   "metadata": {},
   "outputs": [
    {
     "name": "stdout",
     "output_type": "stream",
     "text": [
      "['28/08/02']\n"
     ]
    }
   ],
   "source": [
    "import re\n",
    "txt='I was born on 28/08/02'\n",
    "ans=re.findall('\\d{2}/\\d{2}/\\d{2}',txt)\n",
    "print(ans)"
   ]
  },
  {
   "cell_type": "markdown",
   "id": "6092b489",
   "metadata": {},
   "source": [
    "### Write a Python Program to Extract domain name from a given Email ID"
   ]
  },
  {
   "cell_type": "code",
   "execution_count": 55,
   "id": "e03ca930",
   "metadata": {},
   "outputs": [
    {
     "name": "stdout",
     "output_type": "stream",
     "text": [
      "geu.ac.in\n"
     ]
    }
   ],
   "source": [
    "import re\n",
    "txt='aaaa@geu.ac.in'\n",
    "ans=re.split('@',txt)[1]\n",
    "print(ans)"
   ]
  },
  {
   "cell_type": "markdown",
   "id": "4c5020a3",
   "metadata": {},
   "source": [
    "### Write a Python Program to print the names that start with an vowel"
   ]
  },
  {
   "cell_type": "code",
   "execution_count": 58,
   "id": "acbd3e01",
   "metadata": {},
   "outputs": [
    {
     "name": "stdout",
     "output_type": "stream",
     "text": [
      "era\n",
      "university\n"
     ]
    }
   ],
   "source": [
    "import re\n",
    "txt='graphic era university'\n",
    "ans=re.split(' ',txt)\n",
    "for x in ans:\n",
    "    if(x[0]=='a' or x[0]=='e' or x[0]=='i' or x[0]=='o' or x[0]=='u'):\n",
    "        print(x)"
   ]
  },
  {
   "cell_type": "code",
   "execution_count": 60,
   "id": "88f8e0d4",
   "metadata": {},
   "outputs": [
    {
     "name": "stdout",
     "output_type": "stream",
     "text": [
      "era\n",
      "University\n"
     ]
    }
   ],
   "source": [
    "import re\n",
    "txt='Graphic era University'\n",
    "vowels='aeiouAEIOU'\n",
    "ans=re.split(' ',txt)\n",
    "for x in ans:\n",
    "    if(x[0] in vowels):\n",
    "        print(x)"
   ]
  },
  {
   "cell_type": "markdown",
   "id": "19c21603",
   "metadata": {},
   "source": [
    "### Write a Python Program to Split the String with Multiple delimiters"
   ]
  },
  {
   "cell_type": "code",
   "execution_count": 71,
   "id": "e35f1ee1",
   "metadata": {},
   "outputs": [
    {
     "name": "stdout",
     "output_type": "stream",
     "text": [
      "['gra', 'phic', 'era', 'university']\n"
     ]
    }
   ],
   "source": [
    "import re\n",
    "txt=\"gra phic-era/university\"\n",
    "ans=re.split('[ -/]+',txt)\n",
    "print(ans)"
   ]
  },
  {
   "cell_type": "code",
   "execution_count": 74,
   "id": "aa2e751f",
   "metadata": {},
   "outputs": [
    {
     "name": "stdout",
     "output_type": "stream",
     "text": [
      "['Hi All', 'Hope You all are fine', ' next week', ' You have Python Test']\n"
     ]
    }
   ],
   "source": [
    "import re\n",
    "txt=\"Hi All,Hope You all are fine; next week\\n You have Python Test\"\n",
    "ans=re.split('[-/;\\n,]+',txt)\n",
    "print(ans)"
   ]
  },
  {
   "cell_type": "markdown",
   "id": "22f49c1f",
   "metadata": {},
   "source": [
    "### Metacharacters"
   ]
  },
  {
   "cell_type": "markdown",
   "id": "792db284",
   "metadata": {},
   "source": [
    "#### []  a set of characters\n",
    "####  \\   Signals a special sequence\n",
    "####  .   Any character(except newline character)\n",
    "####  ^  Starts with\n",
    "####  $  Ends with\n",
    "#### *  Zero or more occurrences\n",
    "#### +  One or more occurrences\n",
    "#### ?  Zero or one occurrences\n",
    "#### {} Specified Number of Occurrences\n",
    "       "
   ]
  },
  {
   "cell_type": "markdown",
   "id": "bdd4d113",
   "metadata": {},
   "source": [
    "### .Dot\n",
    "\n",
    "### Dot symbol matches only a single character except for the newline character (\\n)"
   ]
  },
  {
   "cell_type": "markdown",
   "id": "4025a13a",
   "metadata": {},
   "source": [
    "### \\ Backslash\n",
    "### The backslash(\\) makes sure that the character is not treated in a special way. this can be considered a way of escaping metacharacters\n"
   ]
  },
  {
   "cell_type": "code",
   "execution_count": 7,
   "id": "c67158b5",
   "metadata": {},
   "outputs": [
    {
     "name": "stdout",
     "output_type": "stream",
     "text": [
      "['.', '.']\n"
     ]
    }
   ],
   "source": [
    "import re\n",
    "txt='my mail id is abc@geu.ac.in'\n",
    "pattern='\\.'\n",
    "ans=re.findall(pattern,txt)\n",
    "print(ans)"
   ]
  },
  {
   "cell_type": "markdown",
   "id": "68fa96bf",
   "metadata": {},
   "source": [
    "### [ ] Square Brackets\n",
    "\n",
    "### Square Brackets([ ]) represent a character class containing a set of characters that we wish to match. Foe Example, the character clas[abc] will match any single a,b or c.\n",
    "\n",
    "### We can also specify a range of charaacters using - inside the square brackets\n",
    "\n",
    "### [0-3]=[0123]\n",
    "\n",
    "### [^0-3]= means any number except 0,1,2 and 3.\n",
    "### [^a-c]=means any character except a,b or c"
   ]
  },
  {
   "cell_type": "markdown",
   "id": "df62c4ad",
   "metadata": {},
   "source": [
    "### ^- Caret\n",
    "\n",
    "### Caret (^) symbol matches the beginning of the string ie checks whether the string starts with the given character(s) or not\n",
    "\n",
    "^word"
   ]
  },
  {
   "cell_type": "code",
   "execution_count": 11,
   "id": "5cb34d4a",
   "metadata": {},
   "outputs": [
    {
     "name": "stdout",
     "output_type": "stream",
     "text": [
      "['Dog']\n"
     ]
    }
   ],
   "source": [
    "import re\n",
    "txt=\"\"\"Dog*is*a*pet*animal\\nDog and cat never becomes a friend\\nTiger and Dog are not similiar\"\"\"\n",
    "ans=re.findall('^Dog',txt)\n",
    "print(ans)"
   ]
  },
  {
   "cell_type": "markdown",
   "id": "8147ea85",
   "metadata": {},
   "source": [
    "###  $ Dollar\n",
    "\n",
    "### Dollar symbol matches the end of the string ie checks whether the string ends with the given characters or not\n",
    "\n",
    "word$"
   ]
  },
  {
   "cell_type": "markdown",
   "id": "91a8240d",
   "metadata": {},
   "source": [
    "### | OR\n",
    "\n",
    "### Or symbol works as the or operator meaning it checks whether the pattern before or after the symbol is present in the string or not\n",
    "### \\d{2}-\\d{2}-\\d{4} | \\d{4}-\\d{2}-\\d{2}"
   ]
  },
  {
   "cell_type": "code",
   "execution_count": null,
   "id": "38dff9bc",
   "metadata": {},
   "outputs": [],
   "source": []
  }
 ],
 "metadata": {
  "kernelspec": {
   "display_name": "Python 3 (ipykernel)",
   "language": "python",
   "name": "python3"
  },
  "language_info": {
   "codemirror_mode": {
    "name": "ipython",
    "version": 3
   },
   "file_extension": ".py",
   "mimetype": "text/x-python",
   "name": "python",
   "nbconvert_exporter": "python",
   "pygments_lexer": "ipython3",
   "version": "3.9.12"
  }
 },
 "nbformat": 4,
 "nbformat_minor": 5
}
