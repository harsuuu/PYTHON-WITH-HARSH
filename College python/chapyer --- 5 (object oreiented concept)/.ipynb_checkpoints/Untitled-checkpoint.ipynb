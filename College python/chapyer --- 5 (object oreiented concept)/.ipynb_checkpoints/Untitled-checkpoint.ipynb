{
 "cells": [
  {
   "cell_type": "code",
   "execution_count": 1,
   "id": "cbb06531",
   "metadata": {},
   "outputs": [
    {
     "name": "stdout",
     "output_type": "stream",
     "text": [
      "Enter the Name:Harsh\n",
      "Enter the Roll No. :32\n",
      "Enter the Branch Name:CST\n",
      "Name is: Harsh\n",
      "Roll No. is: 32\n",
      "Branch name is: CST\n"
     ]
    }
   ],
   "source": [
    "class Student:\n",
    "    Name =''\n",
    "    Roll_no=''\n",
    "    Branch=''\n",
    "    def Read(self):      #For reading the value we are using self.\n",
    "        self.Name=input(\"Enter the Name:\")\n",
    "        self.Roll_no=int(input(\"Enter the Roll No. :\"))\n",
    "        self.Branch=input(\"Enter the Branch Name:\")\n",
    "        \n",
    "    def Display(self):\n",
    "        print(\"Name is:\", self.Name)\n",
    "        print(\"Roll No. is:\", self.Roll_no)\n",
    "        print(\"Branch name is:\", self.Branch)\n",
    "        \n",
    "s1=Student()\n",
    "s1.Read()\n",
    "s1.Display()    "
   ]
  },
  {
   "cell_type": "code",
   "execution_count": 2,
   "id": "3c526399",
   "metadata": {},
   "outputs": [
    {
     "name": "stdout",
     "output_type": "stream",
     "text": [
      "Enter the Name:ADITYA\n",
      "Enter the ID:100\n",
      "Enter the Salary:10000\n",
      "Name is: ADITYA\n",
      "ID is: 100\n",
      "Salary is : 10000\n",
      "Enter the Name:KIRTI\n",
      "Enter the ID:200\n",
      "Enter the Salary:20000\n",
      "Name is: KIRTI\n",
      "ID is: 200\n",
      "Salary is : 20000\n"
     ]
    }
   ],
   "source": [
    "class Employee:\n",
    "    Name=''\n",
    "    ID=''\n",
    "    Salary=''\n",
    "    def Read(self):   #self is parameter.\n",
    "        self.Name=input(\"Enter the Name:\")\n",
    "        self.ID=input(\"Enter the ID:\")\n",
    "        self.Salary=int(input(\"Enter the Salary:\"))\n",
    "        \n",
    "    def Display(self):\n",
    "        print(\"Name is:\",self.Name)\n",
    "        print(\"ID is:\",self.ID)\n",
    "        print(\"Salary is :\",self.Salary)\n",
    "        \n",
    "e1=Employee()     #Ab agr bhut sare object bnane hia mtlb bhuhyt logo ka data store krna hia to array of object bnayenge.\n",
    "e2=Employee()\n",
    "e1.Read()\n",
    "e1.Display()\n",
    "e2.Read()\n",
    "e2.Display()"
   ]
  },
  {
   "cell_type": "code",
   "execution_count": 2,
   "id": "22e028c9",
   "metadata": {},
   "outputs": [
    {
     "name": "stdout",
     "output_type": "stream",
     "text": [
      "Enter the value of N:2\n",
      "Enter the Name:Harsh\n",
      "Enter the ID:10\n",
      "Enter the Salary:100\n",
      "Name is: Harsh\n",
      "ID is: 10\n",
      "Salary is : 100\n",
      "Enter the Name:madhav\n",
      "Enter the ID:30\n",
      "Enter the Salary:200\n",
      "Name is: madhav\n",
      "ID is: 30\n",
      "Salary is : 200\n"
     ]
    }
   ],
   "source": [
    "class Employee:\n",
    "    Name=''\n",
    "    ID=''\n",
    "    Salary=''\n",
    "    def Read(self):   #self is parameter.\n",
    "        self.Name=input(\"Enter the Name:\")\n",
    "        self.ID=input(\"Enter the ID:\")\n",
    "        self.Salary=int(input(\"Enter the Salary:\"))\n",
    "        \n",
    "    def Display(self):\n",
    "        print(\"Name is:\",self.Name)\n",
    "        print(\"ID is:\",self.ID)\n",
    "        print(\"Salary is :\",self.Salary)\n",
    "        \n",
    "#e1=Employee()     #Ab agr bhut sare object bnane hia mtlb bhuhyt logo ka data store krna hia to array of object bnayenge.\n",
    "Employee_list=[]\n",
    "n=int(input(\"Enter the value of N:\"))\n",
    "for i in range(n):\n",
    "    e=Employee()          #creating the object\n",
    "    e.Read()   #after reading hme ye list m append krna  hoga.\n",
    "    Employee_list.append(e)\n",
    "    #e=Employee()     dubara se object bnane ki koi jrurat nhi qki  object hm phle hi uper bna chuke hai\n",
    "    e.Display()"
   ]
  },
  {
   "cell_type": "markdown",
   "id": "0a5878d1",
   "metadata": {},
   "source": [
    "#  Python Constructer\n"
   ]
  },
  {
   "cell_type": "code",
   "execution_count": 6,
   "id": "9b8b53b2",
   "metadata": {},
   "outputs": [
    {
     "name": "stdout",
     "output_type": "stream",
     "text": [
      "name is : Ram Roll no is : 23\n"
     ]
    }
   ],
   "source": [
    "#Parameterzied constructer\n",
    "\n",
    "class Student:\n",
    "    def __init__(self,n,r):\n",
    "        self.Name=n\n",
    "        self.roll_no=r\n",
    "        \n",
    "    def Display(self):\n",
    "        print(\"name is :\",self.Name, \"Roll no is :\",self.roll_no)\n",
    "        \n",
    "s=Student('Ram',23)\n",
    "s.Display()"
   ]
  },
  {
   "cell_type": "markdown",
   "id": "ff5aff8c",
   "metadata": {},
   "source": [
    "#  Counting the nnumber of objects of a class"
   ]
  },
  {
   "cell_type": "code",
   "execution_count": 4,
   "id": "176909b4",
   "metadata": {},
   "outputs": [
    {
     "name": "stdout",
     "output_type": "stream",
     "text": [
      "2\n"
     ]
    }
   ],
   "source": [
    "class Obj_Count:\n",
    "    Count=0\n",
    "    def __init__(self):\n",
    "        Obj_Count.Count=Obj_Count.Count+1\n",
    "        \n",
    "o1=Obj_Count()\n",
    "o2=Obj_Count()\n",
    "print(Obj_Count.Count)"
   ]
  },
  {
   "cell_type": "markdown",
   "id": "d0bbe0d3",
   "metadata": {},
   "source": [
    "# Python Non parameterized constructer"
   ]
  },
  {
   "cell_type": "code",
   "execution_count": 3,
   "id": "9e4bb429",
   "metadata": {},
   "outputs": [
    {
     "name": "stdout",
     "output_type": "stream",
     "text": [
      "This is non parameterized constructor\n",
      "Hello Harsh\n"
     ]
    }
   ],
   "source": [
    "class Student:\n",
    "    def __init__(self):\n",
    "        print(\"This is non parameterized constructor\")\n",
    "    def show(self,name):\n",
    "        print(\"Hello\",name)\n",
    "student =Student()\n",
    "student.show(\"Harsh\")"
   ]
  },
  {
   "cell_type": "markdown",
   "id": "59627adc",
   "metadata": {},
   "source": [
    "#  Python default construtor"
   ]
  },
  {
   "cell_type": "code",
   "execution_count": 7,
   "id": "0bb87460",
   "metadata": {},
   "outputs": [
    {
     "name": "stdout",
     "output_type": "stream",
     "text": [
      "101 Harsh\n"
     ]
    }
   ],
   "source": [
    "class Student:\n",
    "    roll_num=101\n",
    "    name=\"Harsh\"\n",
    "    \n",
    "    def display(self):\n",
    "        print(self.roll_num,self.name)\n",
    "st=Student()\n",
    "st.display()"
   ]
  },
  {
   "cell_type": "markdown",
   "id": "59bca275",
   "metadata": {},
   "source": [
    "#  More than one constructor in single class"
   ]
  },
  {
   "cell_type": "code",
   "execution_count": 9,
   "id": "1a2c2936",
   "metadata": {},
   "outputs": [
    {
     "name": "stdout",
     "output_type": "stream",
     "text": [
      "The second constructor\n"
     ]
    }
   ],
   "source": [
    "class Student:\n",
    "    def __init__(self):\n",
    "        print(\"The first constructor\")\n",
    "    def __init__(self):\n",
    "        print(\"The second constructor\")\n",
    "        \n",
    "s1=Student()    #overloading do name same jo bad bala hoga bo print hoga."
   ]
  },
  {
   "cell_type": "markdown",
   "id": "7a44b681",
   "metadata": {},
   "source": [
    "#  Python built in class function"
   ]
  },
  {
   "cell_type": "code",
   "execution_count": 16,
   "id": "5728b653",
   "metadata": {},
   "outputs": [
    {
     "name": "stdout",
     "output_type": "stream",
     "text": [
      "Harsh\n",
      "Aarav\n",
      "True\n",
      "False\n"
     ]
    }
   ],
   "source": [
    "class Student:\n",
    "    def __init__(self,n,r):\n",
    "        self.name=n\n",
    "        self.roll_no=r\n",
    "    \n",
    "s1=Student(\"Harsh\",32)\n",
    "print(getattr(s1,\"name\"))\n",
    "setattr(s1,\"name\",\"Aarav\")   #change the value.\n",
    "print(getattr(s1,\"name\"))\n",
    "print(hasattr(s1,\"name\"))   #it will print True if name is present.\n",
    "delattr(s1,\"name\")     #isne name delete kr diya \n",
    "print(hasattr(s1,\"name\"))    #ab name delete ho gya ab false return krega"
   ]
  },
  {
   "cell_type": "markdown",
   "id": "01ea85cf",
   "metadata": {},
   "source": [
    "# Types of Inheritance"
   ]
  },
  {
   "cell_type": "markdown",
   "id": "e916e1ad",
   "metadata": {},
   "source": [
    "#  i. Single Inheritance"
   ]
  },
  {
   "cell_type": "code",
   "execution_count": 7,
   "id": "f0862ecf",
   "metadata": {},
   "outputs": [
    {
     "name": "stdout",
     "output_type": "stream",
     "text": [
      "sum of two number : 6\n",
      "sub of two number : -1\n",
      "mul of two number : 12\n",
      "div of two number : 4.0\n",
      "Mod of two number : 2\n",
      "Expo of two number : 27\n"
     ]
    }
   ],
   "source": [
    "class Cal1:\n",
    "    def add(self,a,b):\n",
    "        sum=a+b\n",
    "        print(\"sum of two number :\",sum)\n",
    "        \n",
    "    def sub(self,a,b):\n",
    "        sub=a-b\n",
    "        print(\"sub of two number :\",sub) \n",
    "        \n",
    "    def mul(self,a,b):\n",
    "        mul=a*b\n",
    "        print(\"mul of two number :\",mul)\n",
    "        \n",
    "        \n",
    "    def div(self,a,b):\n",
    "        div=a/b\n",
    "        print(\"div of two number :\",div)\n",
    "        \n",
    "        \n",
    "class Cal2(Cal1):     #cal 2 is sub class and base class is cal1 .mtlb hmne ek nyi class bnai and usme Class 1 jo ki hai cal 1 \n",
    "                      # uski sari properties cal 2 ne le li, that is inheritance.\n",
    "    def mod(self,a,b):\n",
    "        mod=a%b\n",
    "        print(\"Mod of two number :\", mod)\n",
    "        \n",
    "    def expo(self,a,b):\n",
    "        expo=a**b\n",
    "        print(\"Expo of two number :\",expo)\n",
    "        \n",
    "        \n",
    "c=Cal2()\n",
    "c.add(2,4)\n",
    "c.sub(4,5)\n",
    "c.mul(3,4)\n",
    "c.div(20,5)\n",
    "c.mod(8,3)\n",
    "c.expo(3,3)\n",
    "        "
   ]
  },
  {
   "cell_type": "markdown",
   "id": "86ef1877",
   "metadata": {},
   "source": [
    "# ii. Multiple inheritance"
   ]
  },
  {
   "cell_type": "code",
   "execution_count": 10,
   "id": "8d4e8ee4",
   "metadata": {},
   "outputs": [
    {
     "name": "stdout",
     "output_type": "stream",
     "text": [
      "sum of two number : 6\n",
      "sub of two number : -1\n",
      "mul of two number : 12\n",
      "div of two number : 4.0\n",
      "Mod of two number : 2\n",
      "Expo of two number : 27\n",
      "sin value is : -0.9880316240928618\n"
     ]
    }
   ],
   "source": [
    "import math\n",
    "class Trigometry:\n",
    "    def sin_cal(self,a):\n",
    "        ans=math.sin(a)\n",
    "        print(\"sin value is :\",ans)\n",
    "\n",
    "\n",
    "\n",
    "\n",
    "class Cal1:\n",
    "    def add(self,a,b):\n",
    "        sum=a+b\n",
    "        print(\"sum of two number :\",sum)\n",
    "        \n",
    "    def sub(self,a,b):\n",
    "        sub=a-b\n",
    "        print(\"sub of two number :\",sub) \n",
    "        \n",
    "    def mul(self,a,b):\n",
    "        mul=a*b\n",
    "        print(\"mul of two number :\",mul)\n",
    "        \n",
    "        \n",
    "    def div(self,a,b):\n",
    "        div=a/b\n",
    "        print(\"div of two number :\",div)\n",
    "        \n",
    "        \n",
    "class new_Cal(Cal1,Trigometry):     #two base class se ek nyi class bnai aur un purani class ka sara mamla bhi aa gya.\n",
    "    def mod(self,a,b):\n",
    "        mod=a%b\n",
    "        print(\"Mod of two number :\", mod)\n",
    "        \n",
    "    def expo(self,a,b):\n",
    "        expo=a**b\n",
    "        print(\"Expo of two number :\",expo)\n",
    "        \n",
    "        \n",
    "c=new_Cal()\n",
    "c.add(2,4)\n",
    "c.sub(4,5)\n",
    "c.mul(3,4)\n",
    "c.div(20,5)\n",
    "c.mod(8,3)\n",
    "c.expo(3,3)\n",
    "c.sin_cal(30)"
   ]
  },
  {
   "cell_type": "markdown",
   "id": "348c6520",
   "metadata": {},
   "source": [
    "# Python Access Modifiers"
   ]
  },
  {
   "cell_type": "markdown",
   "id": "bd6bd4ed",
   "metadata": {},
   "source": [
    "# (i) Public access modifiers"
   ]
  },
  {
   "cell_type": "code",
   "execution_count": 3,
   "id": "cb89086e",
   "metadata": {},
   "outputs": [
    {
     "name": "stdout",
     "output_type": "stream",
     "text": [
      "student is  harsh id is  32\n",
      "harsh\n",
      "32\n"
     ]
    }
   ],
   "source": [
    "class Student:\n",
    "    def __init__(self,name,id):\n",
    "        self.name=name\n",
    "        self.id=id\n",
    "        \n",
    "    def show(self):\n",
    "        print(\"student is \",self.name, \"id is \",self.id)\n",
    "        \n",
    "s=Student(\"harsh\",32)\n",
    "s.show()\n",
    "print(s.name)    #accessing outside of the class\n",
    "print(s.id)"
   ]
  },
  {
   "cell_type": "markdown",
   "id": "9a587c05",
   "metadata": {},
   "source": [
    "# (ii) Protected access modifiers"
   ]
  },
  {
   "cell_type": "code",
   "execution_count": 11,
   "id": "ea24f8ca",
   "metadata": {},
   "outputs": [
    {
     "name": "stdout",
     "output_type": "stream",
     "text": [
      "Harsh\n",
      "Krishna\n",
      "Name is: Harsh ID is : 1\n",
      "Name is: Krishna ID is : 2\n"
     ]
    }
   ],
   "source": [
    "class Student:\n",
    "    def __init__(self,n,i):\n",
    "        self._name=n #protected variable\n",
    "        self._id=i\n",
    "        \n",
    "    def _show(self):\n",
    "        print(\"Name is:\",self._name, \"ID is :\",self._id)\n",
    "        \n",
    "class Subject(Student):\n",
    "    pass\n",
    "        \n",
    "st=Student(\"Harsh\",1)\n",
    "su=Subject(\"Krishna\",2)\n",
    "\n",
    "print(st._name)   #parent class object\n",
    "print(su._name)   #child class object\n",
    "\n",
    "st._show()\n",
    "su._show()"
   ]
  },
  {
   "cell_type": "markdown",
   "id": "a7c465c6",
   "metadata": {},
   "source": [
    "# (iii) Private access modifiers"
   ]
  },
  {
   "cell_type": "code",
   "execution_count": 19,
   "id": "f10da622",
   "metadata": {},
   "outputs": [
    {
     "name": "stdout",
     "output_type": "stream",
     "text": [
      "My name is:  Harshu id is : 69\n"
     ]
    },
    {
     "data": {
      "text/plain": [
       "'hellogshs\\n        shjhsjshjskijsks'"
      ]
     },
     "execution_count": 19,
     "metadata": {},
     "output_type": "execute_result"
    }
   ],
   "source": [
    "class Student:\n",
    "    def __init__(self,n,i):\n",
    "        self.__name=n #private variable\n",
    "        self.__id=i\n",
    "    def show(self):\n",
    "        print(\"My name is: \",self.__name, \"id is :\",self.__id)\n",
    "        \n",
    "s=Student(\"Harshu\",69)\n",
    "s.show()\n",
    "#print(s.__name)  --> ye nhi chlega qki private hai"
   ]
  },
  {
   "cell_type": "markdown",
   "id": "7b09059c",
   "metadata": {},
   "source": [
    "# PRACTICES"
   ]
  },
  {
   "cell_type": "markdown",
   "id": "4ad9f43e",
   "metadata": {},
   "source": [
    "# 1. BUILT IN CLASS FUNCTION"
   ]
  },
  {
   "cell_type": "code",
   "execution_count": 7,
   "id": "e517d4f3",
   "metadata": {},
   "outputs": [
    {
     "name": "stdout",
     "output_type": "stream",
     "text": [
      "Harsh\n",
      "Aarav\n",
      "True\n",
      "False\n"
     ]
    }
   ],
   "source": [
    "class Student:\n",
    "    def __init__(self,n,r):\n",
    "        self.Name=n\n",
    "        self.Roll=r\n",
    "        \n",
    "s1=Student(\"Harsh\",32)\n",
    "print(getattr(s1,\"Name\"))\n",
    "setattr(s1,\"Name\",\"Aarav\")\n",
    "print(getattr(s1,\"Name\"))\n",
    "print(hasattr(s1,\"Name\"))\n",
    "delattr(s1,\"Name\")\n",
    "print(hasattr(s1,\"Name\"))"
   ]
  },
  {
   "cell_type": "markdown",
   "id": "ba3d2654",
   "metadata": {},
   "source": [
    "# method overriding\n"
   ]
  },
  {
   "cell_type": "code",
   "execution_count": 8,
   "id": "ea484b5a",
   "metadata": {},
   "outputs": [
    {
     "name": "stdout",
     "output_type": "stream",
     "text": [
      "Max speed is 100kmh\n"
     ]
    }
   ],
   "source": [
    "class vehical:\n",
    "    def speed(self):\n",
    "        print(\"Max speed is 200 kmh\")\n",
    "class car(vehical):\n",
    "    def speed(self):\n",
    "        print(\"Max speed is 100kmh\")\n",
    "c=car()\n",
    "c.speed()"
   ]
  },
  {
   "cell_type": "markdown",
   "id": "59d77375",
   "metadata": {},
   "source": [
    "# inheritance"
   ]
  },
  {
   "cell_type": "code",
   "execution_count": 10,
   "id": "0683cf25",
   "metadata": {},
   "outputs": [
    {
     "name": "stdout",
     "output_type": "stream",
     "text": [
      "scorpio is fast\n",
      "car has satrated\n"
     ]
    }
   ],
   "source": [
    "class car:\n",
    "    def speed(self):\n",
    "        print(\"car has satrated\")\n",
    "class scorpip(car):\n",
    "    def fast(self):\n",
    "        print(\"scorpio is fast\")\n",
    "c=scorpip()\n",
    "c.fast()\n",
    "c.speed()"
   ]
  },
  {
   "cell_type": "code",
   "execution_count": 12,
   "id": "5c4340e3",
   "metadata": {},
   "outputs": [
    {
     "name": "stdout",
     "output_type": "stream",
     "text": [
      "I am in class A\n",
      "I am in class B\n",
      "I am in class c\n"
     ]
    }
   ],
   "source": [
    "class A:\n",
    "    def display(self):\n",
    "        print(\"I am in class A\")\n",
    "class B:\n",
    "    def show(self):\n",
    "        print(\"I am in class B\")\n",
    "class C(A,B):\n",
    "    def put(self):\n",
    "        print(\"I am in class c\")\n",
    "c=C()\n",
    "c.display()\n",
    "c.show()\n",
    "c.put()"
   ]
  },
  {
   "cell_type": "code",
   "execution_count": 17,
   "id": "0b574e75",
   "metadata": {},
   "outputs": [
    {
     "ename": "SyntaxError",
     "evalue": "invalid syntax (1888659715.py, line 8)",
     "output_type": "error",
     "traceback": [
      "\u001b[1;36m  Input \u001b[1;32mIn [17]\u001b[1;36m\u001b[0m\n\u001b[1;33m    def put self:\u001b[0m\n\u001b[1;37m            ^\u001b[0m\n\u001b[1;31mSyntaxError\u001b[0m\u001b[1;31m:\u001b[0m invalid syntax\n"
     ]
    }
   ],
   "source": [
    "class A:\n",
    "    def show(self):\n",
    "        print(\"I am in class A\")\n",
    "class B(A):\n",
    "    def display(self):\n",
    "        print(\"I am in class B\")\n",
    "class C(B):\n",
    "    def put self:\n",
    "        print(\" I am in class c\")\n",
    "c=d()\n",
    "d.show()\n",
    "d.display()\n",
    "d.put()"
   ]
  },
  {
   "cell_type": "code",
   "execution_count": 18,
   "id": "2c8701fb",
   "metadata": {},
   "outputs": [
    {
     "name": "stdout",
     "output_type": "stream",
     "text": [
      "HI I am in clas A\n",
      "Hi i am class B\n",
      "HI i am in class C\n",
      "Hi i am in class B\n"
     ]
    }
   ],
   "source": [
    "class A:\n",
    "    def show(self):\n",
    "        print(\"HI I am in clas A\")\n",
    "class B(A):\n",
    "    def display(self):\n",
    "        print(\"Hi i am class B\")\n",
    "class C(A):\n",
    "    def put(self):\n",
    "        print(\"HI i am in class C\")\n",
    "class D(B,C):\n",
    "    def get(self):\n",
    "        print(\"Hi i am in class D\")\n",
    "z=D()\n",
    "z.show()\n",
    "z.display()\n",
    "z.put()\n",
    "z.get()"
   ]
  },
  {
   "cell_type": "code",
   "execution_count": null,
   "id": "82b081eb",
   "metadata": {},
   "outputs": [],
   "source": []
  }
 ],
 "metadata": {
  "kernelspec": {
   "display_name": "Python 3 (ipykernel)",
   "language": "python",
   "name": "python3"
  },
  "language_info": {
   "codemirror_mode": {
    "name": "ipython",
    "version": 3
   },
   "file_extension": ".py",
   "mimetype": "text/x-python",
   "name": "python",
   "nbconvert_exporter": "python",
   "pygments_lexer": "ipython3",
   "version": "3.9.12"
  }
 },
 "nbformat": 4,
 "nbformat_minor": 5
}
